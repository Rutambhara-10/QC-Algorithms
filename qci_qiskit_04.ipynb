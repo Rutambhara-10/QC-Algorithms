{
 "cells": [
  {
   "cell_type": "code",
   "execution_count": 1,
   "metadata": {},
   "outputs": [],
   "source": [
    "from qiskit import QuantumCircuit, execute, Aer\n",
    "from qiskit.visualization import plot_histogram, plot_bloch_vector\n",
    "from math import sqrt, pi"
   ]
  },
  {
   "cell_type": "code",
   "execution_count": 2,
   "metadata": {},
   "outputs": [],
   "source": [
    "qc = QuantumCircuit(1) # Create a quantum circuit with one qubit"
   ]
  },
  {
   "cell_type": "code",
   "execution_count": 3,
   "metadata": {},
   "outputs": [
    {
     "data": {
      "text/html": [
       "<pre style=\"word-wrap: normal;white-space: pre;background: #fff0;line-height: 1.1;font-family: &quot;Courier New&quot;,Courier,monospace\">     ┌─────────────────┐\n",
       "q_0: ┤ initialize(0,1) ├\n",
       "     └─────────────────┘</pre>"
      ],
      "text/plain": [
       "     ┌─────────────────┐\n",
       "q_0: ┤ initialize(0,1) ├\n",
       "     └─────────────────┘"
      ]
     },
     "execution_count": 3,
     "metadata": {},
     "output_type": "execute_result"
    }
   ],
   "source": [
    "initial_state = [0,1]   # Define initial_state as |1>\n",
    "qc.initialize(initial_state, 0) # Apply initialisation operation to the 0th qubit\n",
    "qc.draw()  # Let's view our circuit"
   ]
  },
  {
   "cell_type": "code",
   "execution_count": 4,
   "metadata": {},
   "outputs": [],
   "source": [
    "backend = Aer.get_backend('statevector_simulator') # Tell Qiskit how to simulate our circuit"
   ]
  },
  {
   "cell_type": "code",
   "execution_count": 5,
   "metadata": {},
   "outputs": [
    {
     "name": "stdout",
     "output_type": "stream",
     "text": [
      "[0.+0.j 1.+0.j]\n"
     ]
    }
   ],
   "source": [
    "result = execute(qc,backend).result() # Do the simulation, returning the result\n",
    "out_state = result.get_statevector()\n",
    "print(out_state) # Display the output state vector"
   ]
  },
  {
   "cell_type": "code",
   "execution_count": 6,
   "metadata": {},
   "outputs": [
    {
     "data": {
      "text/html": [
       "<pre style=\"word-wrap: normal;white-space: pre;background: #fff0;line-height: 1.1;font-family: &quot;Courier New&quot;,Courier,monospace\">        ┌─────────────────┐ ░ ┌─┐\n",
       "   q_0: ┤ initialize(0,1) ├─░─┤M├\n",
       "        └─────────────────┘ ░ └╥┘\n",
       "meas: 1/═══════════════════════╩═\n",
       "                               0 </pre>"
      ],
      "text/plain": [
       "        ┌─────────────────┐ ░ ┌─┐\n",
       "   q_0: ┤ initialize(0,1) ├─░─┤M├\n",
       "        └─────────────────┘ ░ └╥┘\n",
       "meas: 1/═══════════════════════╩═\n",
       "                               0 "
      ]
     },
     "execution_count": 6,
     "metadata": {},
     "output_type": "execute_result"
    }
   ],
   "source": [
    "qc.measure_all()\n",
    "qc.draw()"
   ]
  },
  {
   "cell_type": "code",
   "execution_count": 7,
   "metadata": {},
   "outputs": [
    {
     "data": {
      "image/png": "[encoded data removed]",
      "text/plain": [
       "<Figure size 504x360 with 1 Axes>"
      ]
     },
     "execution_count": 7,
     "metadata": {},
     "output_type": "execute_result"
    }
   ],
   "source": [
    "result = execute(qc,backend).result()\n",
    "counts = result.get_counts()\n",
    "plot_histogram(counts)"
   ]
  },
  {
   "cell_type": "code",
   "execution_count": 8,
   "metadata": {},
   "outputs": [],
   "source": [
    "initial_state = [1/sqrt(2), 1j/sqrt(2)]  # Define state |q_0>"
   ]
  },
  {
   "cell_type": "code",
   "execution_count": 9,
   "metadata": {},
   "outputs": [
    {
     "name": "stdout",
     "output_type": "stream",
     "text": [
      "[0.70710678+0.j         0.        +0.70710678j]\n"
     ]
    }
   ],
   "source": [
    "qc = QuantumCircuit(1) # Must redefine qc\n",
    "qc.initialize(initial_state, 0) # Initialise the 0th qubit in the state `initial_state`\n",
    "state = execute(qc,backend).result().get_statevector() # Execute the circuit\n",
    "print(state)           # Print the result"
   ]
  },
  {
   "cell_type": "code",
   "execution_count": 10,
   "metadata": {},
   "outputs": [
    {
     "data": {
      "image/png": "[encoded data removed]",
      "text/plain": [
       "<Figure size 504x360 with 1 Axes>"
      ]
     },
     "execution_count": 10,
     "metadata": {},
     "output_type": "execute_result"
    }
   ],
   "source": [
    "results = execute(qc,backend).result().get_counts()\n",
    "plot_histogram(results)"
   ]
  },
  {
   "cell_type": "code",
   "execution_count": null,
   "metadata": {},
   "outputs": [],
   "source": []
  }
 ],
 "metadata": {
  "kernelspec": {
   "display_name": "Python 3",
   "language": "python",
   "name": "python3"
  },
  "language_info": {
   "codemirror_mode": {
    "name": "ipython",
    "version": 3
   },
   "file_extension": ".py",
   "mimetype": "text/x-python",
   "name": "python",
   "nbconvert_exporter": "python",
   "pygments_lexer": "ipython3",
   "version": "3.8.5"
  }
 },
 "nbformat": 4,
 "nbformat_minor": 4
}
