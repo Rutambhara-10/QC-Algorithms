{
 "cells": [
  {
   "cell_type": "code",
   "execution_count": 1,
   "metadata": {},
   "outputs": [],
   "source": [
    "#initialization\n",
    "import matplotlib.pyplot as plt\n",
    "import numpy as np\n",
    "import math\n",
    "\n",
    "# importing Qiskit\n",
    "from qiskit import IBMQ, Aer\n",
    "from qiskit import QuantumCircuit, ClassicalRegister, QuantumRegister, execute\n",
    "\n",
    "# import basic plot tools\n",
    "from qiskit.visualization import plot_histogram\n",
    "%config InlineBackend.figure_format = 'svg' # Makes the images look nice"
   ]
  },
  {
   "cell_type": "code",
   "execution_count": 2,
   "metadata": {},
   "outputs": [
    {
     "data": {
      "text/html": [
       "<pre style=\"word-wrap: normal;white-space: pre;background: #fff0;line-height: 1.1;font-family: &quot;Courier New&quot;,Courier,monospace\">          \n",
       "q_0: ─────\n",
       "          \n",
       "q_1: ─────\n",
       "          \n",
       "q_2: ─────\n",
       "     ┌───┐\n",
       "q_3: ┤ X ├\n",
       "     └───┘\n",
       "c: 3/═════\n",
       "          </pre>"
      ],
      "text/plain": [
       "          \n",
       "q_0: ─────\n",
       "          \n",
       "q_1: ─────\n",
       "          \n",
       "q_2: ─────\n",
       "     ┌───┐\n",
       "q_3: ┤ X ├\n",
       "     └───┘\n",
       "c: 3/═════\n",
       "          "
      ]
     },
     "execution_count": 2,
     "metadata": {},
     "output_type": "execute_result"
    }
   ],
   "source": [
    "qpe = QuantumCircuit(4, 3)\n",
    "qpe.x(3)\n",
    "qpe.draw()"
   ]
  },
  {
   "cell_type": "code",
   "execution_count": 3,
   "metadata": {},
   "outputs": [
    {
     "data": {
      "text/html": [
       "<pre style=\"word-wrap: normal;white-space: pre;background: #fff0;line-height: 1.1;font-family: &quot;Courier New&quot;,Courier,monospace\">     ┌───┐\n",
       "q_0: ┤ H ├\n",
       "     ├───┤\n",
       "q_1: ┤ H ├\n",
       "     ├───┤\n",
       "q_2: ┤ H ├\n",
       "     ├───┤\n",
       "q_3: ┤ X ├\n",
       "     └───┘\n",
       "c: 3/═════\n",
       "          </pre>"
      ],
      "text/plain": [
       "     ┌───┐\n",
       "q_0: ┤ H ├\n",
       "     ├───┤\n",
       "q_1: ┤ H ├\n",
       "     ├───┤\n",
       "q_2: ┤ H ├\n",
       "     ├───┤\n",
       "q_3: ┤ X ├\n",
       "     └───┘\n",
       "c: 3/═════\n",
       "          "
      ]
     },
     "execution_count": 3,
     "metadata": {},
     "output_type": "execute_result"
    }
   ],
   "source": [
    "for qubit in range(3):\n",
    "    qpe.h(qubit)\n",
    "qpe.draw()"
   ]
  },
  {
   "cell_type": "code",
   "execution_count": 4,
   "metadata": {},
   "outputs": [
    {
     "data": {
      "text/html": [
       "<pre style=\"word-wrap: normal;white-space: pre;background: #fff0;line-height: 1.1;font-family: &quot;Courier New&quot;,Courier,monospace\">     ┌───┐                                                 \n",
       "q_0: ┤ H ├─■───────────────────────────────────────────────\n",
       "     ├───┤ │                                               \n",
       "q_1: ┤ H ├─┼──────■──────■─────────────────────────────────\n",
       "     ├───┤ │      │      │                                 \n",
       "q_2: ┤ H ├─┼──────┼──────┼──────■──────■──────■──────■─────\n",
       "     ├───┤ │pi/4  │pi/4  │pi/4  │pi/4  │pi/4  │pi/4  │pi/4 \n",
       "q_3: ┤ X ├─■──────■──────■──────■──────■──────■──────■─────\n",
       "     └───┘                                                 \n",
       "c: 3/══════════════════════════════════════════════════════\n",
       "                                                           </pre>"
      ],
      "text/plain": [
       "     ┌───┐                                                 \n",
       "q_0: ┤ H ├─■───────────────────────────────────────────────\n",
       "     ├───┤ │                                               \n",
       "q_1: ┤ H ├─┼──────■──────■─────────────────────────────────\n",
       "     ├───┤ │      │      │                                 \n",
       "q_2: ┤ H ├─┼──────┼──────┼──────■──────■──────■──────■─────\n",
       "     ├───┤ │pi/4  │pi/4  │pi/4  │pi/4  │pi/4  │pi/4  │pi/4 \n",
       "q_3: ┤ X ├─■──────■──────■──────■──────■──────■──────■─────\n",
       "     └───┘                                                 \n",
       "c: 3/══════════════════════════════════════════════════════\n",
       "                                                           "
      ]
     },
     "execution_count": 4,
     "metadata": {},
     "output_type": "execute_result"
    }
   ],
   "source": [
    "repetitions = 1\n",
    "for counting_qubit in range(3):\n",
    "    for i in range(repetitions):\n",
    "        qpe.cu1(math.pi/4, counting_qubit, 3); # This is C-U\n",
    "    repetitions *= 2\n",
    "qpe.draw()"
   ]
  },
  {
   "cell_type": "code",
   "execution_count": 5,
   "metadata": {},
   "outputs": [],
   "source": [
    "def qft_dagger(circ, n):\n",
    "    \"\"\"n-qubit QFTdagger the first n qubits in circ\"\"\"\n",
    "    # Don't forget the Swaps!\n",
    "    for qubit in range(n//2):\n",
    "        circ.swap(qubit, n-qubit-1)\n",
    "    for j in range(n):\n",
    "        for m in range(j):\n",
    "            circ.cu1(-math.pi/float(2**(j-m)), m, j)\n",
    "        circ.h(j)"
   ]
  },
  {
   "cell_type": "code",
   "execution_count": 6,
   "metadata": {},
   "outputs": [
    {
     "data": {
      "text/html": [
       "<pre style=\"word-wrap: normal;white-space: pre;background: #fff0;line-height: 1.1;font-family: &quot;Courier New&quot;,Courier,monospace\">     ┌───┐                                                  ░    ┌───┐        »\n",
       "q_0: ┤ H ├─■────────────────────────────────────────────────░──X─┤ H ├─■──────»\n",
       "     ├───┤ │                                                ░  │ └───┘ │-pi/2 »\n",
       "q_1: ┤ H ├─┼──────■──────■──────────────────────────────────░──┼───────■──────»\n",
       "     ├───┤ │      │      │                                  ░  │              »\n",
       "q_2: ┤ H ├─┼──────┼──────┼──────■──────■──────■──────■──────░──X──────────────»\n",
       "     ├───┤ │pi/4  │pi/4  │pi/4  │pi/4  │pi/4  │pi/4  │pi/4  ░                 »\n",
       "q_3: ┤ X ├─■──────■──────■──────■──────■──────■──────■──────░─────────────────»\n",
       "     └───┘                                                  ░                 »\n",
       "c: 3/═════════════════════════════════════════════════════════════════════════»\n",
       "                                                                              »\n",
       "«                                ░ ┌─┐      \n",
       "«q_0: ──────■────────────────────░─┤M├──────\n",
       "«     ┌───┐ │                    ░ └╥┘┌─┐   \n",
       "«q_1: ┤ H ├─┼───────■────────────░──╫─┤M├───\n",
       "«     └───┘ │-pi/4  │-pi/2 ┌───┐ ░  ║ └╥┘┌─┐\n",
       "«q_2: ──────■───────■──────┤ H ├─░──╫──╫─┤M├\n",
       "«                          └───┘ ░  ║  ║ └╥┘\n",
       "«q_3: ───────────────────────────░──╫──╫──╫─\n",
       "«                                ░  ║  ║  ║ \n",
       "«c: 3/══════════════════════════════╩══╩══╩═\n",
       "«                                   0  1  2 </pre>"
      ],
      "text/plain": [
       "     ┌───┐                                                  ░    ┌───┐        »\n",
       "q_0: ┤ H ├─■────────────────────────────────────────────────░──X─┤ H ├─■──────»\n",
       "     ├───┤ │                                                ░  │ └───┘ │-pi/2 »\n",
       "q_1: ┤ H ├─┼──────■──────■──────────────────────────────────░──┼───────■──────»\n",
       "     ├───┤ │      │      │                                  ░  │              »\n",
       "q_2: ┤ H ├─┼──────┼──────┼──────■──────■──────■──────■──────░──X──────────────»\n",
       "     ├───┤ │pi/4  │pi/4  │pi/4  │pi/4  │pi/4  │pi/4  │pi/4  ░                 »\n",
       "q_3: ┤ X ├─■──────■──────■──────■──────■──────■──────■──────░─────────────────»\n",
       "     └───┘                                                  ░                 »\n",
       "c: 3/═════════════════════════════════════════════════════════════════════════»\n",
       "                                                                              »\n",
       "«                                ░ ┌─┐      \n",
       "«q_0: ──────■────────────────────░─┤M├──────\n",
       "«     ┌───┐ │                    ░ └╥┘┌─┐   \n",
       "«q_1: ┤ H ├─┼───────■────────────░──╫─┤M├───\n",
       "«     └───┘ │-pi/4  │-pi/2 ┌───┐ ░  ║ └╥┘┌─┐\n",
       "«q_2: ──────■───────■──────┤ H ├─░──╫──╫─┤M├\n",
       "«                          └───┘ ░  ║  ║ └╥┘\n",
       "«q_3: ───────────────────────────░──╫──╫──╫─\n",
       "«                                ░  ║  ║  ║ \n",
       "«c: 3/══════════════════════════════╩══╩══╩═\n",
       "«                                   0  1  2 "
      ]
     },
     "execution_count": 6,
     "metadata": {},
     "output_type": "execute_result"
    }
   ],
   "source": [
    "qpe.barrier()\n",
    "# Apply inverse QFT\n",
    "qft_dagger(qpe, 3)\n",
    "# Measure\n",
    "qpe.barrier()\n",
    "for n in range(3):\n",
    "    qpe.measure(n,n)\n",
    "qpe.draw()"
   ]
  },
  {
   "cell_type": "code",
   "execution_count": 7,
   "metadata": {},
   "outputs": [
    {
     "data": {
      "image/png": "[encoded data removed]",
      "text/plain": [
       "<Figure size 504x360 with 1 Axes>"
      ]
     },
     "execution_count": 7,
     "metadata": {},
     "output_type": "execute_result"
    }
   ],
   "source": [
    "backend = Aer.get_backend('qasm_simulator')\n",
    "shots = 2048\n",
    "results = execute(qpe, backend=backend, shots=shots).result()\n",
    "answer = results.get_counts()\n",
    "\n",
    "plot_histogram(answer)"
   ]
  },
  {
   "cell_type": "code",
   "execution_count": 8,
   "metadata": {},
   "outputs": [
    {
     "data": {
      "text/html": [
       "<pre style=\"word-wrap: normal;white-space: pre;background: #fff0;line-height: 1.1;font-family: &quot;Courier New&quot;,Courier,monospace\">     ┌───┐                                                           ┌───┐»\n",
       "q_0: ┤ H ├─■───────────────────────────────────────────────────────X─┤ H ├»\n",
       "     ├───┤ │                                                       │ └───┘»\n",
       "q_1: ┤ H ├─┼───────■───────■───────────────────────────────────────┼──────»\n",
       "     ├───┤ │       │       │                                       │      »\n",
       "q_2: ┤ H ├─┼───────┼───────┼───────■───────■───────■───────■───────X──────»\n",
       "     ├───┤ │2pi/3  │2pi/3  │2pi/3  │2pi/3  │2pi/3  │2pi/3  │2pi/3         »\n",
       "q_3: ┤ X ├─■───────■───────■───────■───────■───────■───────■──────────────»\n",
       "     └───┘                                                                »\n",
       "c: 3/═════════════════════════════════════════════════════════════════════»\n",
       "                                                                          »\n",
       "«                                  ┌─┐           \n",
       "«q_0: ─■────────────■──────────────┤M├───────────\n",
       "«      │-pi/2 ┌───┐ │              └╥┘     ┌─┐   \n",
       "«q_1: ─■──────┤ H ├─┼───────■───────╫──────┤M├───\n",
       "«             └───┘ │-pi/4  │-pi/2  ║ ┌───┐└╥┘┌─┐\n",
       "«q_2: ──────────────■───────■───────╫─┤ H ├─╫─┤M├\n",
       "«                                   ║ └───┘ ║ └╥┘\n",
       "«q_3: ──────────────────────────────╫───────╫──╫─\n",
       "«                                   ║       ║  ║ \n",
       "«c: 3/══════════════════════════════╩═══════╩══╩═\n",
       "«                                   0       1  2 </pre>"
      ],
      "text/plain": [
       "     ┌───┐                                                           ┌───┐»\n",
       "q_0: ┤ H ├─■───────────────────────────────────────────────────────X─┤ H ├»\n",
       "     ├───┤ │                                                       │ └───┘»\n",
       "q_1: ┤ H ├─┼───────■───────■───────────────────────────────────────┼──────»\n",
       "     ├───┤ │       │       │                                       │      »\n",
       "q_2: ┤ H ├─┼───────┼───────┼───────■───────■───────■───────■───────X──────»\n",
       "     ├───┤ │2pi/3  │2pi/3  │2pi/3  │2pi/3  │2pi/3  │2pi/3  │2pi/3         »\n",
       "q_3: ┤ X ├─■───────■───────■───────■───────■───────■───────■──────────────»\n",
       "     └───┘                                                                »\n",
       "c: 3/═════════════════════════════════════════════════════════════════════»\n",
       "                                                                          »\n",
       "«                                  ┌─┐           \n",
       "«q_0: ─■────────────■──────────────┤M├───────────\n",
       "«      │-pi/2 ┌───┐ │              └╥┘     ┌─┐   \n",
       "«q_1: ─■──────┤ H ├─┼───────■───────╫──────┤M├───\n",
       "«             └───┘ │-pi/4  │-pi/2  ║ ┌───┐└╥┘┌─┐\n",
       "«q_2: ──────────────■───────■───────╫─┤ H ├─╫─┤M├\n",
       "«                                   ║ └───┘ ║ └╥┘\n",
       "«q_3: ──────────────────────────────╫───────╫──╫─\n",
       "«                                   ║       ║  ║ \n",
       "«c: 3/══════════════════════════════╩═══════╩══╩═\n",
       "«                                   0       1  2 "
      ]
     },
     "execution_count": 8,
     "metadata": {},
     "output_type": "execute_result"
    }
   ],
   "source": [
    "# Create and set up circuit\n",
    "qpe2 = QuantumCircuit(4, 3)\n",
    "\n",
    "# Apply H-Gates to counting qubits:\n",
    "for qubit in range(3):\n",
    "    qpe2.h(qubit)\n",
    "\n",
    "# Prepare our eigenstate |psi>:\n",
    "qpe2.x(3)\n",
    "\n",
    "# Do the controlled-U operations:\n",
    "angle = 2*math.pi/3\n",
    "repetitions = 1\n",
    "for counting_qubit in range(3):\n",
    "    for i in range(repetitions):\n",
    "        qpe2.cu1(angle, counting_qubit, 3);\n",
    "    repetitions *= 2\n",
    "\n",
    "# Do the inverse QFT:\n",
    "qft_dagger(qpe2, 3)\n",
    "\n",
    "# Measure of course!\n",
    "for n in range(3):\n",
    "    qpe2.measure(n,n)\n",
    "\n",
    "qpe2.draw()"
   ]
  },
  {
   "cell_type": "code",
   "execution_count": 9,
   "metadata": {},
   "outputs": [
    {
     "data": {
      "image/png": "[encoded data removed]",
      "text/plain": [
       "<Figure size 504x360 with 1 Axes>"
      ]
     },
     "execution_count": 9,
     "metadata": {},
     "output_type": "execute_result"
    }
   ],
   "source": [
    "# Let's see the results!\n",
    "backend = Aer.get_backend('qasm_simulator')\n",
    "shots = 4096\n",
    "results = execute(qpe2, backend=backend, shots=shots).result()\n",
    "answer = results.get_counts()\n",
    "\n",
    "plot_histogram(answer)"
   ]
  },
  {
   "cell_type": "code",
   "execution_count": 10,
   "metadata": {},
   "outputs": [
    {
     "data": {
      "text/html": [
       "<pre style=\"word-wrap: normal;white-space: pre;background: #fff0;line-height: 1.1;font-family: &quot;Courier New&quot;,Courier,monospace\">     ┌───┐                                                                »\n",
       "q_0: ┤ H ├─■──────────────────────────────────────────────────────────────»\n",
       "     ├───┤ │                                                              »\n",
       "q_1: ┤ H ├─┼───────■───────■──────────────────────────────────────────────»\n",
       "     ├───┤ │       │       │                                              »\n",
       "q_2: ┤ H ├─┼───────┼───────┼───────■───────■───────■───────■──────────────»\n",
       "     ├───┤ │       │       │       │       │       │       │              »\n",
       "q_3: ┤ H ├─┼───────┼───────┼───────┼───────┼───────┼───────┼───────■──────»\n",
       "     ├───┤ │       │       │       │       │       │       │       │      »\n",
       "q_4: ┤ H ├─┼───────┼───────┼───────┼───────┼───────┼───────┼───────┼──────»\n",
       "     ├───┤ │2pi/3  │2pi/3  │2pi/3  │2pi/3  │2pi/3  │2pi/3  │2pi/3  │2pi/3 »\n",
       "q_5: ┤ X ├─■───────■───────■───────■───────■───────■───────■───────■──────»\n",
       "     └───┘                                                                »\n",
       "c: 5/═════════════════════════════════════════════════════════════════════»\n",
       "                                                                          »\n",
       "«                                                                             »\n",
       "«q_0: ────────────────────────────────────────────────────────────────────────»\n",
       "«                                                                             »\n",
       "«q_1: ───────────────────────────────────────────────────────────X────────────»\n",
       "«                                                                │            »\n",
       "«q_2: ───────────────────────────────────────────────────────────┼────────────»\n",
       "«                                                                │            »\n",
       "«q_3: ─■───────■───────■───────■───────■───────■───────■─────────X────────────»\n",
       "«      │       │       │       │       │       │       │                      »\n",
       "«q_4: ─┼───────┼───────┼───────┼───────┼───────┼───────┼───────■───────■──────»\n",
       "«      │2pi/3  │2pi/3  │2pi/3  │2pi/3  │2pi/3  │2pi/3  │2pi/3  │2pi/3  │2pi/3 »\n",
       "«q_5: ─■───────■───────■───────■───────■───────■───────■───────■───────■──────»\n",
       "«                                                                             »\n",
       "«c: 5/════════════════════════════════════════════════════════════════════════»\n",
       "«                                                                             »\n",
       "«                                                                             »\n",
       "«q_0: ────────────────────────────────────────────────────────────────────────»\n",
       "«                                                                             »\n",
       "«q_1: ────────────────────────────────────────────────────────────────────────»\n",
       "«                                                                             »\n",
       "«q_2: ────────────────────────────────────────────────────────────────────────»\n",
       "«                                                                             »\n",
       "«q_3: ────────────────────────────────────────────────────────────────────────»\n",
       "«                                                                             »\n",
       "«q_4: ─■───────■───────■───────■───────■───────■───────■───────■───────■──────»\n",
       "«      │2pi/3  │2pi/3  │2pi/3  │2pi/3  │2pi/3  │2pi/3  │2pi/3  │2pi/3  │2pi/3 »\n",
       "«q_5: ─■───────■───────■───────■───────■───────■───────■───────■───────■──────»\n",
       "«                                                                             »\n",
       "«c: 5/════════════════════════════════════════════════════════════════════════»\n",
       "«                                                                             »\n",
       "«                                                ┌───┐                     »\n",
       "«q_0: ─────────────────────────────────────────X─┤ H ├─■────────────■──────»\n",
       "«                                              │ └───┘ │-pi/2 ┌───┐ │      »\n",
       "«q_1: ─────────────────────────────────────────┼───────■──────┤ H ├─┼──────»\n",
       "«                                              │              └───┘ │-pi/4 »\n",
       "«q_2: ─────────────────────────────────────────┼────────────────────■──────»\n",
       "«                                              │                           »\n",
       "«q_3: ─────────────────────────────────────────┼───────────────────────────»\n",
       "«                                              │                           »\n",
       "«q_4: ─■───────■───────■───────■───────■───────X───────────────────────────»\n",
       "«      │2pi/3  │2pi/3  │2pi/3  │2pi/3  │2pi/3                              »\n",
       "«q_5: ─■───────■───────■───────■───────■───────────────────────────────────»\n",
       "«                                                                          »\n",
       "«c: 5/═════════════════════════════════════════════════════════════════════»\n",
       "«                                                                          »\n",
       "«                                                                        »\n",
       "«q_0: ─────────■────────────────────■────────────────────────────────────»\n",
       "«              │                    │                                    »\n",
       "«q_1: ─■───────┼────────────■───────┼────────────────■───────────────────»\n",
       "«      │-pi/2  │      ┌───┐ │       │                │                   »\n",
       "«q_2: ─■───────┼──────┤ H ├─┼───────┼────────■───────┼────────────■──────»\n",
       "«              │-pi/8 └───┘ │-pi/4  │        │-pi/2  │      ┌───┐ │      »\n",
       "«q_3: ─────────■────────────■───────┼────────■───────┼──────┤ H ├─┼──────»\n",
       "«                                   │-pi/16          │-pi/8 └───┘ │-pi/4 »\n",
       "«q_4: ──────────────────────────────■────────────────■────────────■──────»\n",
       "«                                                                        »\n",
       "«q_5: ───────────────────────────────────────────────────────────────────»\n",
       "«                                                                        »\n",
       "«c: 5/═══════════════════════════════════════════════════════════════════»\n",
       "«                                                                        »\n",
       "«                   ░ ┌─┐            \n",
       "«q_0: ──────────────░─┤M├────────────\n",
       "«                   ░ └╥┘┌─┐         \n",
       "«q_1: ──────────────░──╫─┤M├─────────\n",
       "«                   ░  ║ └╥┘┌─┐      \n",
       "«q_2: ──────────────░──╫──╫─┤M├──────\n",
       "«                   ░  ║  ║ └╥┘┌─┐   \n",
       "«q_3: ─■────────────░──╫──╫──╫─┤M├───\n",
       "«      │-pi/2 ┌───┐ ░  ║  ║  ║ └╥┘┌─┐\n",
       "«q_4: ─■──────┤ H ├─░──╫──╫──╫──╫─┤M├\n",
       "«             └───┘ ░  ║  ║  ║  ║ └╥┘\n",
       "«q_5: ──────────────░──╫──╫──╫──╫──╫─\n",
       "«                   ░  ║  ║  ║  ║  ║ \n",
       "«c: 5/═════════════════╩══╩══╩══╩══╩═\n",
       "«                      0  1  2  3  4 </pre>"
      ],
      "text/plain": [
       "     ┌───┐                                                                »\n",
       "q_0: ┤ H ├─■──────────────────────────────────────────────────────────────»\n",
       "     ├───┤ │                                                              »\n",
       "q_1: ┤ H ├─┼───────■───────■──────────────────────────────────────────────»\n",
       "     ├───┤ │       │       │                                              »\n",
       "q_2: ┤ H ├─┼───────┼───────┼───────■───────■───────■───────■──────────────»\n",
       "     ├───┤ │       │       │       │       │       │       │              »\n",
       "q_3: ┤ H ├─┼───────┼───────┼───────┼───────┼───────┼───────┼───────■──────»\n",
       "     ├───┤ │       │       │       │       │       │       │       │      »\n",
       "q_4: ┤ H ├─┼───────┼───────┼───────┼───────┼───────┼───────┼───────┼──────»\n",
       "     ├───┤ │2pi/3  │2pi/3  │2pi/3  │2pi/3  │2pi/3  │2pi/3  │2pi/3  │2pi/3 »\n",
       "q_5: ┤ X ├─■───────■───────■───────■───────■───────■───────■───────■──────»\n",
       "     └───┘                                                                »\n",
       "c: 5/═════════════════════════════════════════════════════════════════════»\n",
       "                                                                          »\n",
       "«                                                                             »\n",
       "«q_0: ────────────────────────────────────────────────────────────────────────»\n",
       "«                                                                             »\n",
       "«q_1: ───────────────────────────────────────────────────────────X────────────»\n",
       "«                                                                │            »\n",
       "«q_2: ───────────────────────────────────────────────────────────┼────────────»\n",
       "«                                                                │            »\n",
       "«q_3: ─■───────■───────■───────■───────■───────■───────■─────────X────────────»\n",
       "«      │       │       │       │       │       │       │                      »\n",
       "«q_4: ─┼───────┼───────┼───────┼───────┼───────┼───────┼───────■───────■──────»\n",
       "«      │2pi/3  │2pi/3  │2pi/3  │2pi/3  │2pi/3  │2pi/3  │2pi/3  │2pi/3  │2pi/3 »\n",
       "«q_5: ─■───────■───────■───────■───────■───────■───────■───────■───────■──────»\n",
       "«                                                                             »\n",
       "«c: 5/════════════════════════════════════════════════════════════════════════»\n",
       "«                                                                             »\n",
       "«                                                                             »\n",
       "«q_0: ────────────────────────────────────────────────────────────────────────»\n",
       "«                                                                             »\n",
       "«q_1: ────────────────────────────────────────────────────────────────────────»\n",
       "«                                                                             »\n",
       "«q_2: ────────────────────────────────────────────────────────────────────────»\n",
       "«                                                                             »\n",
       "«q_3: ────────────────────────────────────────────────────────────────────────»\n",
       "«                                                                             »\n",
       "«q_4: ─■───────■───────■───────■───────■───────■───────■───────■───────■──────»\n",
       "«      │2pi/3  │2pi/3  │2pi/3  │2pi/3  │2pi/3  │2pi/3  │2pi/3  │2pi/3  │2pi/3 »\n",
       "«q_5: ─■───────■───────■───────■───────■───────■───────■───────■───────■──────»\n",
       "«                                                                             »\n",
       "«c: 5/════════════════════════════════════════════════════════════════════════»\n",
       "«                                                                             »\n",
       "«                                                ┌───┐                     »\n",
       "«q_0: ─────────────────────────────────────────X─┤ H ├─■────────────■──────»\n",
       "«                                              │ └───┘ │-pi/2 ┌───┐ │      »\n",
       "«q_1: ─────────────────────────────────────────┼───────■──────┤ H ├─┼──────»\n",
       "«                                              │              └───┘ │-pi/4 »\n",
       "«q_2: ─────────────────────────────────────────┼────────────────────■──────»\n",
       "«                                              │                           »\n",
       "«q_3: ─────────────────────────────────────────┼───────────────────────────»\n",
       "«                                              │                           »\n",
       "«q_4: ─■───────■───────■───────■───────■───────X───────────────────────────»\n",
       "«      │2pi/3  │2pi/3  │2pi/3  │2pi/3  │2pi/3                              »\n",
       "«q_5: ─■───────■───────■───────■───────■───────────────────────────────────»\n",
       "«                                                                          »\n",
       "«c: 5/═════════════════════════════════════════════════════════════════════»\n",
       "«                                                                          »\n",
       "«                                                                        »\n",
       "«q_0: ─────────■────────────────────■────────────────────────────────────»\n",
       "«              │                    │                                    »\n",
       "«q_1: ─■───────┼────────────■───────┼────────────────■───────────────────»\n",
       "«      │-pi/2  │      ┌───┐ │       │                │                   »\n",
       "«q_2: ─■───────┼──────┤ H ├─┼───────┼────────■───────┼────────────■──────»\n",
       "«              │-pi/8 └───┘ │-pi/4  │        │-pi/2  │      ┌───┐ │      »\n",
       "«q_3: ─────────■────────────■───────┼────────■───────┼──────┤ H ├─┼──────»\n",
       "«                                   │-pi/16          │-pi/8 └───┘ │-pi/4 »\n",
       "«q_4: ──────────────────────────────■────────────────■────────────■──────»\n",
       "«                                                                        »\n",
       "«q_5: ───────────────────────────────────────────────────────────────────»\n",
       "«                                                                        »\n",
       "«c: 5/═══════════════════════════════════════════════════════════════════»\n",
       "«                                                                        »\n",
       "«                   ░ ┌─┐            \n",
       "«q_0: ──────────────░─┤M├────────────\n",
       "«                   ░ └╥┘┌─┐         \n",
       "«q_1: ──────────────░──╫─┤M├─────────\n",
       "«                   ░  ║ └╥┘┌─┐      \n",
       "«q_2: ──────────────░──╫──╫─┤M├──────\n",
       "«                   ░  ║  ║ └╥┘┌─┐   \n",
       "«q_3: ─■────────────░──╫──╫──╫─┤M├───\n",
       "«      │-pi/2 ┌───┐ ░  ║  ║  ║ └╥┘┌─┐\n",
       "«q_4: ─■──────┤ H ├─░──╫──╫──╫──╫─┤M├\n",
       "«             └───┘ ░  ║  ║  ║  ║ └╥┘\n",
       "«q_5: ──────────────░──╫──╫──╫──╫──╫─\n",
       "«                   ░  ║  ║  ║  ║  ║ \n",
       "«c: 5/═════════════════╩══╩══╩══╩══╩═\n",
       "«                      0  1  2  3  4 "
      ]
     },
     "execution_count": 10,
     "metadata": {},
     "output_type": "execute_result"
    }
   ],
   "source": [
    "# Create and set up circuit\n",
    "qpe3 = QuantumCircuit(6, 5)\n",
    "\n",
    "# Apply H-Gates to counting qubits:\n",
    "for qubit in range(5):\n",
    "    qpe3.h(qubit)\n",
    "\n",
    "# Prepare our eigenstate |psi>:\n",
    "qpe3.x(5)\n",
    "\n",
    "# Do the controlled-U operations:\n",
    "angle = 2*math.pi/3\n",
    "repetitions = 1\n",
    "for counting_qubit in range(5):\n",
    "    for i in range(repetitions):\n",
    "        qpe3.cu1(angle, counting_qubit, 5);\n",
    "    repetitions *= 2\n",
    "\n",
    "# Do the inverse QFT:\n",
    "qft_dagger(qpe3, 5)\n",
    "\n",
    "# Measure of course!\n",
    "qpe3.barrier()\n",
    "for n in range(5):\n",
    "    qpe3.measure(n,n)\n",
    "\n",
    "qpe3.draw()"
   ]
  },
  {
   "cell_type": "code",
   "execution_count": 11,
   "metadata": {},
   "outputs": [
    {
     "data": {
      "image/png": "[encoded data removed]",
      "text/plain": [
       "<Figure size 504x360 with 1 Axes>"
      ]
     },
     "execution_count": 11,
     "metadata": {},
     "output_type": "execute_result"
    }
   ],
   "source": [
    "### Let's see the results!\n",
    "\n",
    "backend = Aer.get_backend('qasm_simulator')\n",
    "shots = 4096\n",
    "results = execute(qpe3, backend=backend, shots=shots).result()\n",
    "answer = results.get_counts()\n",
    "\n",
    "plot_histogram(answer)"
   ]
  },
  {
   "cell_type": "code",
   "execution_count": 12,
   "metadata": {},
   "outputs": [
    {
     "name": "stderr",
     "output_type": "stream",
     "text": [
      "c:\\users\\karthiganesh_durai\\envqc\\lib\\site-packages\\qiskit\\providers\\ibmq\\ibmqfactory.py:109: UserWarning: Timestamps in IBMQ backend properties, jobs, and job results are all now in local time instead of UTC.\n",
      "  warnings.warn('Timestamps in IBMQ backend properties, jobs, and job results '\n"
     ]
    },
    {
     "name": "stdout",
     "output_type": "stream",
     "text": [
      "Job Status: job has successfully run\n"
     ]
    }
   ],
   "source": [
    "# Load our saved IBMQ accounts and get the least busy backend device with less than or equal to n qubits\n",
    "#IBMQ.load_account()\n",
    "IBMQ.enable_account('fe0bd2e17070e2b5b94944d689a01f08425035e19861f8266140594b49c5bbc266fe8c63d911cf0b5353d3a9f898091ceaadc1a84f0f8369c2f867a57f398b0a')\n",
    "from qiskit.providers.ibmq import least_busy\n",
    "from qiskit.tools.monitor import job_monitor\n",
    "provider = IBMQ.get_provider(hub='ibm-q')\n",
    "backend = provider.get_backend('ibmq_vigo')\n",
    "\n",
    "# Run with 2048 shots\n",
    "shots = 2048\n",
    "job = execute(qpe, backend=backend, shots=2048, optimization_level=3)\n",
    "job_monitor(job)"
   ]
  },
  {
   "cell_type": "code",
   "execution_count": 13,
   "metadata": {},
   "outputs": [
    {
     "data": {
      "image/png": "[encoded data removed]",
      "text/plain": [
       "<Figure size 504x360 with 1 Axes>"
      ]
     },
     "execution_count": 13,
     "metadata": {},
     "output_type": "execute_result"
    }
   ],
   "source": [
    "# get the results from the computation\n",
    "results = job.result()\n",
    "answer = results.get_counts(qpe)\n",
    "\n",
    "plot_histogram(answer)"
   ]
  },
  {
   "cell_type": "code",
   "execution_count": null,
   "metadata": {},
   "outputs": [],
   "source": []
  },
  {
   "cell_type": "code",
   "execution_count": null,
   "metadata": {},
   "outputs": [],
   "source": []
  }
 ],
 "metadata": {
  "kernelspec": {
   "display_name": "Python 3",
   "language": "python",
   "name": "python3"
  },
  "language_info": {
   "codemirror_mode": {
    "name": "ipython",
    "version": 3
   },
   "file_extension": ".py",
   "mimetype": "text/x-python",
   "name": "python",
   "nbconvert_exporter": "python",
   "pygments_lexer": "ipython3",
   "version": "3.8.5"
  }
 },
 "nbformat": 4,
 "nbformat_minor": 4
}
