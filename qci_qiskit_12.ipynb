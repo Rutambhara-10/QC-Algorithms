{
 "cells": [
  {
   "cell_type": "code",
   "execution_count": 1,
   "metadata": {},
   "outputs": [],
   "source": [
    "from qiskit import Aer\n",
    "from qiskit.circuit.library import QFT\n",
    "from qiskit.aqua import QuantumInstance, aqua_globals\n",
    "from qiskit.quantum_info import state_fidelity\n",
    "from qiskit.aqua.algorithms import HHL, NumPyLSsolver\n",
    "from qiskit.aqua.components.eigs import EigsQPE\n",
    "from qiskit.aqua.components.reciprocals import LookupRotation\n",
    "from qiskit.aqua.operators import MatrixOperator\n",
    "from qiskit.aqua.components.initial_states import Custom\n",
    "import numpy as np"
   ]
  },
  {
   "cell_type": "code",
   "execution_count": 2,
   "metadata": {},
   "outputs": [],
   "source": [
    "def create_eigs(matrix, num_ancillae, num_time_slices, negative_evals):\n",
    "    ne_qfts = [None, None]\n",
    "    if negative_evals:\n",
    "        num_ancillae += 1\n",
    "        ne_qfts = [QFT(num_ancillae - 1), QFT(num_ancillae - 1).inverse()]\n",
    "\n",
    "    return EigsQPE(MatrixOperator(matrix=matrix),\n",
    "                   QFT(num_ancillae).inverse(),\n",
    "                   num_time_slices=num_time_slices,\n",
    "                   num_ancillae=num_ancillae,\n",
    "                   expansion_mode='suzuki',\n",
    "                   expansion_order=2,\n",
    "                   evo_time=None,  # This is t, can set to: np.pi*3/4\n",
    "                   negative_evals=negative_evals,\n",
    "                   ne_qfts=ne_qfts)"
   ]
  },
  {
   "cell_type": "code",
   "execution_count": 3,
   "metadata": {},
   "outputs": [],
   "source": [
    "def fidelity(hhl, ref):\n",
    "    solution_hhl_normed = hhl / np.linalg.norm(hhl)\n",
    "    solution_ref_normed = ref / np.linalg.norm(ref)\n",
    "    fidelity = state_fidelity(solution_hhl_normed, solution_ref_normed)\n",
    "    print(\"Fidelity:\\t\\t %f\" % fidelity)"
   ]
  },
  {
   "cell_type": "code",
   "execution_count": 4,
   "metadata": {},
   "outputs": [],
   "source": [
    "matrix = [[1, -1/3], [-1/3, 1]]\n",
    "vector = [1, 0]"
   ]
  },
  {
   "cell_type": "code",
   "execution_count": 5,
   "metadata": {},
   "outputs": [],
   "source": [
    "orig_size = len(vector)\n",
    "matrix, vector, truncate_powerdim, truncate_hermitian = HHL.matrix_resize(matrix, vector)\n",
    "\n",
    "# Initialize eigenvalue finding module\n",
    "eigs = create_eigs(matrix, 3, 50, False)\n",
    "num_q, num_a = eigs.get_register_sizes()\n",
    "\n",
    "# Initialize initial state module\n",
    "init_state = Custom(num_q, state_vector=vector)\n",
    "\n",
    "# Initialize reciprocal rotation module\n",
    "reci = LookupRotation(negative_evals=eigs._negative_evals, evo_time=eigs._evo_time)\n",
    "\n",
    "algo = HHL(matrix, vector, truncate_powerdim, truncate_hermitian, eigs,\n",
    "           init_state, reci, num_q, num_a, orig_size)"
   ]
  },
  {
   "cell_type": "code",
   "execution_count": 6,
   "metadata": {},
   "outputs": [
    {
     "name": "stdout",
     "output_type": "stream",
     "text": [
      "Solution:\t\t [1.13586-0.j 0.40896+0.j]\n",
      "Classical Solution:\t [1.125 0.375]\n",
      "Probability:\t\t 0.056291\n",
      "Fidelity:\t\t 0.999432\n"
     ]
    }
   ],
   "source": [
    "result = algo.run(QuantumInstance(Aer.get_backend('statevector_simulator')))\n",
    "print(\"Solution:\\t\\t\", np.round(result['solution'], 5))\n",
    "\n",
    "result_ref = NumPyLSsolver(matrix, vector).run()\n",
    "print(\"Classical Solution:\\t\", np.round(result_ref['solution'], 5))\n",
    "\n",
    "print(\"Probability:\\t\\t %f\" % result['probability_result'])\n",
    "fidelity(result['solution'], result_ref['solution'])"
   ]
  },
  {
   "cell_type": "code",
   "execution_count": 7,
   "metadata": {},
   "outputs": [
    {
     "name": "stdout",
     "output_type": "stream",
     "text": [
      "circuit_width:\t 7\n",
      "circuit_depth:\t 101\n",
      "CNOT gates:\t 54\n"
     ]
    }
   ],
   "source": [
    "print(\"circuit_width:\\t\", result['circuit_info']['width'])\n",
    "print(\"circuit_depth:\\t\", result['circuit_info']['depth'])\n",
    "print(\"CNOT gates:\\t\", result['circuit_info']['operations']['cx'])"
   ]
  },
  {
   "cell_type": "code",
   "execution_count": 8,
   "metadata": {},
   "outputs": [
    {
     "name": "stdout",
     "output_type": "stream",
     "text": [
      "Depth: 26\n",
      "CNOTS: 10\n"
     ]
    },
    {
     "data": {
      "text/html": [
       "<pre style=\"word-wrap: normal;white-space: pre;background: #fff0;line-height: 1.1;font-family: &quot;Courier New&quot;,Courier,monospace\">        ┌───────┐┌─────────────────────────┐┌──────────┐┌───┐┌──────────────┐┌───┐┌─────────────┐»\n",
       " q15_0: ┤ RY(0) ├┤ U3(-0.66667,-pi/2,pi/2) ├┤ U1(pi/2) ├┤ X ├┤ RY(-0.66667) ├┤ X ├┤ RY(0.66667) ├»\n",
       "        └─┬───┬─┘└────────┬───────┬────────┘└──────────┘└─┬─┘└──────────────┘└─┬─┘└─────────────┘»\n",
       " q15_1: ──┤ H ├───────────┤ U1(2) ├───────────────────────■────────────────────■─────────────────»\n",
       "          ├───┤           ├───────┤                                                              »\n",
       " q15_2: ──┤ H ├───────────┤ U1(4) ├──────────────────────────────────────────────────────────────»\n",
       "          └───┘           └───────┘                                                              »\n",
       " q15_3: ─────────────────────────────────────────────────────────────────────────────────────────»\n",
       "                                                                                                 »\n",
       "meas: 4/═════════════════════════════════════════════════════════════════════════════════════════»\n",
       "                                                                                                 »\n",
       "«        ┌───────────┐┌──────────┐┌───┐┌─────────────┐┌───┐┌────────────┐┌───────────┐     »\n",
       "« q15_0: ┤ U1(3pi/2) ├┤ U1(pi/2) ├┤ X ├┤ RY(-1.3333) ├┤ X ├┤ RY(1.3333) ├┤ U1(3pi/2) ├─────»\n",
       "«        └───────────┘└──────────┘└─┬─┘└─────────────┘└─┬─┘└────────────┘└───────────┘     »\n",
       "« q15_1: ───────────────────────────┼───────────────────┼───────────────────────────────■──»\n",
       "«                                   │                   │      ┌───┐     ┌───────────┐┌─┴─┐»\n",
       "« q15_2: ───────────────────────────■───────────────────■──────┤ H ├─────┤ RZ(-pi/4) ├┤ X ├»\n",
       "«                                                              └───┘     └───────────┘└───┘»\n",
       "« q15_3: ──────────────────────────────────────────────────────────────────────────────────»\n",
       "«                                                                                          »\n",
       "«meas: 4/══════════════════════════════════════════════════════════════════════════════════»\n",
       "«                                                                                          »\n",
       "«                                                                                               »\n",
       "« q15_0: ───────────────────────────────────────────────────────────────────────────────────────»\n",
       "«                         ┌───────────┐     ┌───┐                                               »\n",
       "« q15_1: ──────────────■──┤ RZ(-pi/4) ├─────┤ H ├────────■──────────────────────────────────────»\n",
       "«        ┌──────────┐┌─┴─┐└───────────┘     └───┘        │                                      »\n",
       "« q15_2: ┤ RZ(pi/4) ├┤ X ├──────■────────────────────────┼────────────────────■─────────────────»\n",
       "«        └──────────┘└───┘    ┌─┴─┐    ┌──────────────┐┌─┴─┐┌──────────────┐┌─┴─┐┌─────────────┐»\n",
       "« q15_3: ─────────────────────┤ X ├────┤ RY(-0.69352) ├┤ X ├┤ RY(-0.87728) ├┤ X ├┤ RY(0.35368) ├»\n",
       "«                             └───┘    └──────────────┘└───┘└──────────────┘└───┘└─────────────┘»\n",
       "«meas: 4/═══════════════════════════════════════════════════════════════════════════════════════»\n",
       "«                                                                                               »\n",
       "«                            ░ ┌─┐         \n",
       "« q15_0: ────────────────────░─┤M├─────────\n",
       "«                            ░ └╥┘┌─┐      \n",
       "« q15_1: ──■─────────────────░──╫─┤M├──────\n",
       "«          │                 ░  ║ └╥┘┌─┐   \n",
       "« q15_2: ──┼─────────────────░──╫──╫─┤M├───\n",
       "«        ┌─┴─┐┌────────────┐ ░  ║  ║ └╥┘┌─┐\n",
       "« q15_3: ┤ X ├┤ RY(1.2171) ├─░──╫──╫──╫─┤M├\n",
       "«        └───┘└────────────┘ ░  ║  ║  ║ └╥┘\n",
       "«meas: 4/═══════════════════════╩══╩══╩══╩═\n",
       "«                               0  1  2  3 </pre>"
      ],
      "text/plain": [
       "        ┌───────┐┌─────────────────────────┐┌──────────┐┌───┐┌──────────────┐┌───┐┌─────────────┐»\n",
       " q15_0: ┤ RY(0) ├┤ U3(-0.66667,-pi/2,pi/2) ├┤ U1(pi/2) ├┤ X ├┤ RY(-0.66667) ├┤ X ├┤ RY(0.66667) ├»\n",
       "        └─┬───┬─┘└────────┬───────┬────────┘└──────────┘└─┬─┘└──────────────┘└─┬─┘└─────────────┘»\n",
       " q15_1: ──┤ H ├───────────┤ U1(2) ├───────────────────────■────────────────────■─────────────────»\n",
       "          ├───┤           ├───────┤                                                              »\n",
       " q15_2: ──┤ H ├───────────┤ U1(4) ├──────────────────────────────────────────────────────────────»\n",
       "          └───┘           └───────┘                                                              »\n",
       " q15_3: ─────────────────────────────────────────────────────────────────────────────────────────»\n",
       "                                                                                                 »\n",
       "meas: 4/═════════════════════════════════════════════════════════════════════════════════════════»\n",
       "                                                                                                 »\n",
       "«        ┌───────────┐┌──────────┐┌───┐┌─────────────┐┌───┐┌────────────┐┌───────────┐     »\n",
       "« q15_0: ┤ U1(3pi/2) ├┤ U1(pi/2) ├┤ X ├┤ RY(-1.3333) ├┤ X ├┤ RY(1.3333) ├┤ U1(3pi/2) ├─────»\n",
       "«        └───────────┘└──────────┘└─┬─┘└─────────────┘└─┬─┘└────────────┘└───────────┘     »\n",
       "« q15_1: ───────────────────────────┼───────────────────┼───────────────────────────────■──»\n",
       "«                                   │                   │      ┌───┐     ┌───────────┐┌─┴─┐»\n",
       "« q15_2: ───────────────────────────■───────────────────■──────┤ H ├─────┤ RZ(-pi/4) ├┤ X ├»\n",
       "«                                                              └───┘     └───────────┘└───┘»\n",
       "« q15_3: ──────────────────────────────────────────────────────────────────────────────────»\n",
       "«                                                                                          »\n",
       "«meas: 4/══════════════════════════════════════════════════════════════════════════════════»\n",
       "«                                                                                          »\n",
       "«                                                                                               »\n",
       "« q15_0: ───────────────────────────────────────────────────────────────────────────────────────»\n",
       "«                         ┌───────────┐     ┌───┐                                               »\n",
       "« q15_1: ──────────────■──┤ RZ(-pi/4) ├─────┤ H ├────────■──────────────────────────────────────»\n",
       "«        ┌──────────┐┌─┴─┐└───────────┘     └───┘        │                                      »\n",
       "« q15_2: ┤ RZ(pi/4) ├┤ X ├──────■────────────────────────┼────────────────────■─────────────────»\n",
       "«        └──────────┘└───┘    ┌─┴─┐    ┌──────────────┐┌─┴─┐┌──────────────┐┌─┴─┐┌─────────────┐»\n",
       "« q15_3: ─────────────────────┤ X ├────┤ RY(-0.69352) ├┤ X ├┤ RY(-0.87728) ├┤ X ├┤ RY(0.35368) ├»\n",
       "«                             └───┘    └──────────────┘└───┘└──────────────┘└───┘└─────────────┘»\n",
       "«meas: 4/═══════════════════════════════════════════════════════════════════════════════════════»\n",
       "«                                                                                               »\n",
       "«                            ░ ┌─┐         \n",
       "« q15_0: ────────────────────░─┤M├─────────\n",
       "«                            ░ └╥┘┌─┐      \n",
       "« q15_1: ──■─────────────────░──╫─┤M├──────\n",
       "«          │                 ░  ║ └╥┘┌─┐   \n",
       "« q15_2: ──┼─────────────────░──╫──╫─┤M├───\n",
       "«        ┌─┴─┐┌────────────┐ ░  ║  ║ └╥┘┌─┐\n",
       "« q15_3: ┤ X ├┤ RY(1.2171) ├─░──╫──╫──╫─┤M├\n",
       "«        └───┘└────────────┘ ░  ║  ║  ║ └╥┘\n",
       "«meas: 4/═══════════════════════╩══╩══╩══╩═\n",
       "«                               0  1  2  3 "
      ]
     },
     "execution_count": 8,
     "metadata": {},
     "output_type": "execute_result"
    }
   ],
   "source": [
    "from qiskit import QuantumRegister, QuantumCircuit\n",
    "import numpy as np\n",
    "\n",
    "t = 2  # This is not optimal; As an exercise, set this to the\n",
    "       # value that will get the best results. See section 8 for solution.\n",
    "\n",
    "nqubits = 4  # Total number of qubits\n",
    "nb = 1  # Number of qubits representing the solution\n",
    "nl = 2  # Number of qubits representing the eigenvalues\n",
    "\n",
    "theta = 0  # Angle defining |b>\n",
    "\n",
    "a = 1  # Matrix diagonal\n",
    "b = -1/3  # Matrix off-diagonal\n",
    "\n",
    "# Initialise the quantum and classical registers\n",
    "qr = QuantumRegister(nqubits)\n",
    "\n",
    "# Create a Quantum Circuit\n",
    "qc = QuantumCircuit(qr)\n",
    "\n",
    "qrb = qr[0:nb]\n",
    "qrl = qr[nb:nb+nl]\n",
    "qra = qr[nb+nl:nb+nl+1]\n",
    "\n",
    "# State preparation. \n",
    "qc.ry(2*theta, qrb[0])\n",
    "    \n",
    "# QPE with e^{iAt}\n",
    "for qu in qrl:\n",
    "    qc.h(qu)\n",
    "\n",
    "qc.u1(a*t, qrl[0])\n",
    "qc.u1(a*t*2, qrl[1])\n",
    "\n",
    "qc.u3(b*t, -np.pi/2, np.pi/2, qrb[0])\n",
    "\n",
    "\n",
    "# Controlled e^{iAt} on \\lambda_{1}:\n",
    "params=b*t\n",
    "\n",
    "qc.u1(np.pi/2,qrb[0])\n",
    "qc.cx(qrl[0],qrb[0])\n",
    "qc.ry(params,qrb[0])\n",
    "qc.cx(qrl[0],qrb[0])\n",
    "qc.ry(-params,qrb[0])\n",
    "qc.u1(3*np.pi/2,qrb[0])\n",
    "\n",
    "# Controlled e^{2iAt} on \\lambda_{2}:\n",
    "params = b*t*2\n",
    "\n",
    "qc.u1(np.pi/2,qrb[0])\n",
    "qc.cx(qrl[1],qrb[0])\n",
    "qc.ry(params,qrb[0])\n",
    "qc.cx(qrl[1],qrb[0])\n",
    "qc.ry(-params,qrb[0])\n",
    "qc.u1(3*np.pi/2,qrb[0])\n",
    "\n",
    "# Inverse QFT\n",
    "qc.h(qrl[1])\n",
    "qc.rz(-np.pi/4,qrl[1])\n",
    "qc.cx(qrl[0],qrl[1])\n",
    "qc.rz(np.pi/4,qrl[1])\n",
    "qc.cx(qrl[0],qrl[1])\n",
    "qc.rz(-np.pi/4,qrl[0])\n",
    "qc.h(qrl[0])\n",
    "\n",
    "# Eigenvalue rotation\n",
    "t1=(-np.pi +np.pi/3 - 2*np.arcsin(1/3))/4\n",
    "t2=(-np.pi -np.pi/3 + 2*np.arcsin(1/3))/4\n",
    "t3=(np.pi -np.pi/3 - 2*np.arcsin(1/3))/4\n",
    "t4=(np.pi +np.pi/3 + 2*np.arcsin(1/3))/4\n",
    "\n",
    "qc.cx(qrl[1],qra[0])\n",
    "qc.ry(t1,qra[0])\n",
    "qc.cx(qrl[0],qra[0])\n",
    "qc.ry(t2,qra[0])\n",
    "qc.cx(qrl[1],qra[0])\n",
    "qc.ry(t3,qra[0])\n",
    "qc.cx(qrl[0],qra[0])\n",
    "qc.ry(t4,qra[0])\n",
    "qc.measure_all()\n",
    "\n",
    "print(\"Depth: %i\" % qc.depth())\n",
    "print(\"CNOTS: %i\" % qc.count_ops()['cx'])\n",
    "qc.draw(fold=100)"
   ]
  },
  {
   "cell_type": "code",
   "execution_count": 9,
   "metadata": {},
   "outputs": [
    {
     "name": "stderr",
     "output_type": "stream",
     "text": [
      "c:\\users\\karthiganesh_durai\\envqc\\lib\\site-packages\\qiskit\\providers\\ibmq\\ibmqfactory.py:109: UserWarning: Timestamps in IBMQ backend properties, jobs, and job results are all now in local time instead of UTC.\n",
      "  warnings.warn('Timestamps in IBMQ backend properties, jobs, and job results '\n"
     ]
    }
   ],
   "source": [
    "from qiskit import execute, BasicAer, ClassicalRegister, IBMQ\n",
    "from qiskit.compiler import transpile\n",
    "from qiskit.ignis.mitigation.measurement import (complete_meas_cal, # Measurement error mitigation functions\n",
    "                                                 CompleteMeasFitter, \n",
    "                                                 MeasurementFilter)\n",
    "\n",
    "#provider = IBMQ.load_account()\n",
    "IBMQ.enable_account('you IBMQ API')\n",
    "provider = IBMQ.get_provider(hub='ibm-q')\n",
    "backend = provider.get_backend('ibmqx2') # calibrate using real hardware\n",
    "layout = [2,3,0,4]\n",
    "chip_qubits = 5\n",
    "\n",
    "# Transpiled circuit for the real hardware\n",
    "qc_qa_cx = transpile(qc, backend=backend, initial_layout=layout)"
   ]
  },
  {
   "cell_type": "code",
   "execution_count": 10,
   "metadata": {},
   "outputs": [],
   "source": [
    "meas_cals, state_labels = complete_meas_cal(qubit_list=layout, qr=QuantumRegister(chip_qubits))\n",
    "qcs = meas_cals + [qc_qa_cx]\n",
    "\n",
    "shots = 10\n",
    "job = execute(qcs, backend=backend, shots=shots, optimization_level=0)"
   ]
  },
  {
   "cell_type": "code",
   "execution_count": null,
   "metadata": {},
   "outputs": [],
   "source": []
  }
 ],
 "metadata": {
  "kernelspec": {
   "display_name": "Python 3",
   "language": "python",
   "name": "python3"
  },
  "language_info": {
   "codemirror_mode": {
    "name": "ipython",
    "version": 3
   },
   "file_extension": ".py",
   "mimetype": "text/x-python",
   "name": "python",
   "nbconvert_exporter": "python",
   "pygments_lexer": "ipython3",
   "version": "3.8.5"
  }
 },
 "nbformat": 4,
 "nbformat_minor": 4
}
