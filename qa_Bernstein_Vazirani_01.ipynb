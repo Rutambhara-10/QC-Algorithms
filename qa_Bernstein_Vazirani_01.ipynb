{
 "cells": [
  {
   "cell_type": "code",
   "execution_count": 1,
   "metadata": {},
   "outputs": [],
   "source": [
    "# initialization\n",
    "import matplotlib.pyplot as plt\n",
    "import numpy as np\n",
    "\n",
    "# importing Qiskit\n",
    "from qiskit import IBMQ, BasicAer\n",
    "from qiskit.providers.ibmq import least_busy\n",
    "from qiskit import QuantumCircuit, ClassicalRegister, QuantumRegister, execute\n",
    "\n",
    "# import basic plot tools\n",
    "from qiskit.visualization import plot_histogram\n",
    "%config InlineBackend.figure_format = 'svg' # Makes the images look nice"
   ]
  },
  {
   "cell_type": "code",
   "execution_count": 2,
   "metadata": {},
   "outputs": [],
   "source": [
    "n = 3 # number of qubits used to represent s\n",
    "s = '011'   # the hidden binary string"
   ]
  },
  {
   "cell_type": "code",
   "execution_count": 3,
   "metadata": {},
   "outputs": [
    {
     "data": {
      "text/html": [
       "<pre style=\"word-wrap: normal;white-space: pre;background: #fff0;line-height: 1.1;font-family: &quot;Courier New&quot;,Courier,monospace\">     ┌───┐      ░                 ░ ┌───┐┌─┐      \n",
       "q_0: ┤ H ├──────░───■─────────────░─┤ H ├┤M├──────\n",
       "     ├───┤      ░   │             ░ ├───┤└╥┘┌─┐   \n",
       "q_1: ┤ H ├──────░───┼─────────■───░─┤ H ├─╫─┤M├───\n",
       "     ├───┤      ░   │  ┌───┐  │   ░ ├───┤ ║ └╥┘┌─┐\n",
       "q_2: ┤ H ├──────░───┼──┤ I ├──┼───░─┤ H ├─╫──╫─┤M├\n",
       "     ├───┤┌───┐ ░ ┌─┴─┐└───┘┌─┴─┐ ░ └───┘ ║  ║ └╥┘\n",
       "q_3: ┤ H ├┤ Z ├─░─┤ X ├─────┤ X ├─░───────╫──╫──╫─\n",
       "     └───┘└───┘ ░ └───┘     └───┘ ░       ║  ║  ║ \n",
       "c: 3/═════════════════════════════════════╩══╩══╩═\n",
       "                                          0  1  2 </pre>"
      ],
      "text/plain": [
       "     ┌───┐      ░                 ░ ┌───┐┌─┐      \n",
       "q_0: ┤ H ├──────░───■─────────────░─┤ H ├┤M├──────\n",
       "     ├───┤      ░   │             ░ ├───┤└╥┘┌─┐   \n",
       "q_1: ┤ H ├──────░───┼─────────■───░─┤ H ├─╫─┤M├───\n",
       "     ├───┤      ░   │  ┌───┐  │   ░ ├───┤ ║ └╥┘┌─┐\n",
       "q_2: ┤ H ├──────░───┼──┤ I ├──┼───░─┤ H ├─╫──╫─┤M├\n",
       "     ├───┤┌───┐ ░ ┌─┴─┐└───┘┌─┴─┐ ░ └───┘ ║  ║ └╥┘\n",
       "q_3: ┤ H ├┤ Z ├─░─┤ X ├─────┤ X ├─░───────╫──╫──╫─\n",
       "     └───┘└───┘ ░ └───┘     └───┘ ░       ║  ║  ║ \n",
       "c: 3/═════════════════════════════════════╩══╩══╩═\n",
       "                                          0  1  2 "
      ]
     },
     "execution_count": 3,
     "metadata": {},
     "output_type": "execute_result"
    }
   ],
   "source": [
    "# We need a circuit with n qubits, plus one ancilla qubit\n",
    "# Also need n classical bits to write the output to\n",
    "bv_circuit = QuantumCircuit(n+1, n)\n",
    "\n",
    "# put ancilla in state |->\n",
    "bv_circuit.h(n)\n",
    "bv_circuit.z(n)\n",
    "\n",
    "# Apply Hadamard gates before querying the oracle\n",
    "for i in range(n):\n",
    "    bv_circuit.h(i)\n",
    "    \n",
    "# Apply barrier \n",
    "bv_circuit.barrier()\n",
    "\n",
    "# Apply the inner-product oracle\n",
    "s = s[::-1] # reverse s to fit qiskit's qubit ordering\n",
    "for q in range(n):\n",
    "    if s[q] == '0':\n",
    "        bv_circuit.i(q)\n",
    "    else:\n",
    "        bv_circuit.cx(q, n)\n",
    "        \n",
    "# Apply barrier \n",
    "bv_circuit.barrier()\n",
    "\n",
    "#Apply Hadamard gates after querying the oracle\n",
    "for i in range(n):\n",
    "    bv_circuit.h(i)\n",
    "\n",
    "# Measurement\n",
    "for i in range(n):\n",
    "    bv_circuit.measure(i, i)\n",
    "\n",
    "bv_circuit.draw()"
   ]
  },
  {
   "cell_type": "code",
   "execution_count": 4,
   "metadata": {},
   "outputs": [
    {
     "data": {
      "image/png": "[encoded data removed]",
      "text/plain": [
       "<Figure size 504x360 with 1 Axes>"
      ]
     },
     "execution_count": 4,
     "metadata": {},
     "output_type": "execute_result"
    }
   ],
   "source": [
    "# use local simulator\n",
    "backend = BasicAer.get_backend('qasm_simulator')\n",
    "shots = 1024\n",
    "results = execute(bv_circuit, backend=backend, shots=shots).result()\n",
    "answer = results.get_counts()\n",
    "\n",
    "plot_histogram(answer)"
   ]
  },
  {
   "cell_type": "code",
   "execution_count": 5,
   "metadata": {},
   "outputs": [
    {
     "name": "stderr",
     "output_type": "stream",
     "text": [
      "c:\\users\\karthiganesh_durai\\envqc\\lib\\site-packages\\qiskit\\providers\\ibmq\\ibmqfactory.py:109: UserWarning: Timestamps in IBMQ backend properties, jobs, and job results are all now in local time instead of UTC.\n",
      "  warnings.warn('Timestamps in IBMQ backend properties, jobs, and job results '\n"
     ]
    },
    {
     "name": "stdout",
     "output_type": "stream",
     "text": [
      "least busy backend:  ibmq_athens\n"
     ]
    }
   ],
   "source": [
    "# Load our saved IBMQ accounts and get the least busy backend device with less than or equal to 5 qubits\n",
    "#IBMQ.load_account()\n",
    "IBMQ.enable_account('fe0bd2e17070e2b5b94944d689a01f08425035e19861f8266140594b49c5bbc266fe8c63d911cf0b5353d3a9f898091ceaadc1a84f0f8369c2f867a57f398b0a')\n",
    "provider = IBMQ.get_provider(hub='ibm-q')\n",
    "provider.backends()\n",
    "backend = least_busy(provider.backends(filters=lambda x: x.configuration().n_qubits <= 5 and\n",
    "                                   x.configuration().n_qubits >= 2 and\n",
    "                                   not x.configuration().simulator and x.status().operational==True))\n",
    "print(\"least busy backend: \", backend)"
   ]
  },
  {
   "cell_type": "code",
   "execution_count": 6,
   "metadata": {},
   "outputs": [
    {
     "name": "stdout",
     "output_type": "stream",
     "text": [
      "Job Status: job has successfully run\n"
     ]
    }
   ],
   "source": [
    "# Run our circuit on the least busy backend. Monitor the execution of the job in the queue\n",
    "from qiskit.tools.monitor import job_monitor\n",
    "\n",
    "shots = 1024\n",
    "job = execute(bv_circuit, backend=backend, shots=shots)\n",
    "\n",
    "job_monitor(job, interval = 2)"
   ]
  },
  {
   "cell_type": "code",
   "execution_count": 7,
   "metadata": {},
   "outputs": [
    {
     "data": {
      "image/png": "[encoded data removed]",
      "text/plain": [
       "<Figure size 504x360 with 1 Axes>"
      ]
     },
     "execution_count": 7,
     "metadata": {},
     "output_type": "execute_result"
    }
   ],
   "source": [
    "# Get the results from the computation\n",
    "results = job.result()\n",
    "answer = results.get_counts()\n",
    "\n",
    "plot_histogram(answer)"
   ]
  },
  {
   "cell_type": "code",
   "execution_count": null,
   "metadata": {},
   "outputs": [],
   "source": []
  }
 ],
 "metadata": {
  "kernelspec": {
   "display_name": "Python 3",
   "language": "python",
   "name": "python3"
  },
  "language_info": {
   "codemirror_mode": {
    "name": "ipython",
    "version": 3
   },
   "file_extension": ".py",
   "mimetype": "text/x-python",
   "name": "python",
   "nbconvert_exporter": "python",
   "pygments_lexer": "ipython3",
   "version": "3.8.5"
  }
 },
 "nbformat": 4,
 "nbformat_minor": 4
}
