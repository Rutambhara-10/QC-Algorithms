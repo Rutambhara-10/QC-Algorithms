{
 "cells": [
  {
   "cell_type": "code",
   "execution_count": 1,
   "metadata": {},
   "outputs": [],
   "source": [
    "from qiskit import QuantumCircuit, execute, Aer\n",
    "from qiskit.visualization import plot_histogram"
   ]
  },
  {
   "cell_type": "code",
   "execution_count": 2,
   "metadata": {},
   "outputs": [
    {
     "data": {
      "text/html": [
       "<pre style=\"word-wrap: normal;white-space: pre;background: #fff0;line-height: 1.1;font-family: &quot;Courier New&quot;,Courier,monospace\">          \n",
       "q_0: ──■──\n",
       "     ┌─┴─┐\n",
       "q_1: ┤ X ├\n",
       "     └───┘</pre>"
      ],
      "text/plain": [
       "          \n",
       "q_0: ──■──\n",
       "     ┌─┴─┐\n",
       "q_1: ┤ X ├\n",
       "     └───┘"
      ]
     },
     "execution_count": 2,
     "metadata": {},
     "output_type": "execute_result"
    }
   ],
   "source": [
    "qc_cnot = QuantumCircuit(2)\n",
    "qc_cnot.cx(0,1)\n",
    "qc_cnot.draw()"
   ]
  },
  {
   "cell_type": "code",
   "execution_count": 5,
   "metadata": {},
   "outputs": [
    {
     "data": {
      "text/html": [
       "<pre style=\"word-wrap: normal;white-space: pre;background: #fff0;line-height: 1.1;font-family: &quot;Courier New&quot;,Courier,monospace\">     ┌───┐     ┌─┐   \n",
       "q_0: ┤ X ├──■──┤M├───\n",
       "     └───┘┌─┴─┐└╥┘┌─┐\n",
       "q_1: ─────┤ X ├─╫─┤M├\n",
       "          └───┘ ║ └╥┘\n",
       "c: 2/═══════════╩══╩═\n",
       "                0  1 </pre>"
      ],
      "text/plain": [
       "     ┌───┐     ┌─┐   \n",
       "q_0: ┤ X ├──■──┤M├───\n",
       "     └───┘┌─┴─┐└╥┘┌─┐\n",
       "q_1: ─────┤ X ├─╫─┤M├\n",
       "          └───┘ ║ └╥┘\n",
       "c: 2/═══════════╩══╩═\n",
       "                0  1 "
      ]
     },
     "execution_count": 5,
     "metadata": {},
     "output_type": "execute_result"
    }
   ],
   "source": [
    "qc = QuantumCircuit(2,2)\n",
    "qc.x(0)\n",
    "qc.cx(0,1)\n",
    "qc.measure(0,0)\n",
    "qc.measure(1,1)\n",
    "qc.draw()"
   ]
  },
  {
   "cell_type": "code",
   "execution_count": 6,
   "metadata": {},
   "outputs": [
    {
     "data": {
      "text/html": [
       "<pre style=\"word-wrap: normal;white-space: pre;background: #fff0;line-height: 1.1;font-family: &quot;Courier New&quot;,Courier,monospace\">     ┌───┐ ░            ░       \n",
       "q_0: ┤ X ├─░───■────────░───────\n",
       "     ├───┤ ░   │        ░       \n",
       "q_1: ┤ X ├─░───┼────■───░───────\n",
       "     └───┘ ░ ┌─┴─┐┌─┴─┐ ░ ┌─┐   \n",
       "q_2: ──────░─┤ X ├┤ X ├─░─┤M├───\n",
       "           ░ └───┘└───┘ ░ └╥┘┌─┐\n",
       "q_3: ──────░────────────░──╫─┤M├\n",
       "           ░            ░  ║ └╥┘\n",
       "c: 2/══════════════════════╩══╩═\n",
       "                           0  1 </pre>"
      ],
      "text/plain": [
       "     ┌───┐ ░            ░       \n",
       "q_0: ┤ X ├─░───■────────░───────\n",
       "     ├───┤ ░   │        ░       \n",
       "q_1: ┤ X ├─░───┼────■───░───────\n",
       "     └───┘ ░ ┌─┴─┐┌─┴─┐ ░ ┌─┐   \n",
       "q_2: ──────░─┤ X ├┤ X ├─░─┤M├───\n",
       "           ░ └───┘└───┘ ░ └╥┘┌─┐\n",
       "q_3: ──────░────────────░──╫─┤M├\n",
       "           ░            ░  ║ └╥┘\n",
       "c: 2/══════════════════════╩══╩═\n",
       "                           0  1 "
      ]
     },
     "execution_count": 6,
     "metadata": {},
     "output_type": "execute_result"
    }
   ],
   "source": [
    "qc_ha = QuantumCircuit(4,2)\n",
    "# encode inputs in qubits 0 and 1\n",
    "qc_ha.x(0) # For a=0, remove this line. For a=1, leave it.\n",
    "qc_ha.x(1) # For b=0, remove this line. For b=1, leave it.\n",
    "qc_ha.barrier()\n",
    "# use cnots to write the XOR of the inputs on qubit 2\n",
    "qc_ha.cx(0,2)\n",
    "qc_ha.cx(1,2)\n",
    "qc_ha.barrier()\n",
    "# extract outputs\n",
    "qc_ha.measure(2,0) # extract XOR value\n",
    "qc_ha.measure(3,1)\n",
    "\n",
    "qc_ha.draw()"
   ]
  },
  {
   "cell_type": "code",
   "execution_count": null,
   "metadata": {},
   "outputs": [],
   "source": []
  }
 ],
 "metadata": {
  "kernelspec": {
   "display_name": "Python 3",
   "language": "python",
   "name": "python3"
  },
  "language_info": {
   "codemirror_mode": {
    "name": "ipython",
    "version": 3
   },
   "file_extension": ".py",
   "mimetype": "text/x-python",
   "name": "python",
   "nbconvert_exporter": "python",
   "pygments_lexer": "ipython3",
   "version": "3.8.5"
  }
 },
 "nbformat": 4,
 "nbformat_minor": 4
}
